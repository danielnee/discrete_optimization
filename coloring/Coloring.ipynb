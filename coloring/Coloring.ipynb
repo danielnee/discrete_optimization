{
 "cells": [
  {
   "cell_type": "code",
   "execution_count": 46,
   "metadata": {},
   "outputs": [],
   "source": [
    "import pandas as pd\n",
    "import numpy as np\n",
    "\n",
    "from ortools.sat.python import cp_model"
   ]
  },
  {
   "cell_type": "code",
   "execution_count": 56,
   "metadata": {},
   "outputs": [],
   "source": [
    "data_file = \"data/gc_500_1\"\n",
    "data = pd.read_csv(data_file, sep=\" \", names=[\"vertices\", \"edges\"])"
   ]
  },
  {
   "cell_type": "code",
   "execution_count": 57,
   "metadata": {},
   "outputs": [
    {
     "data": {
      "text/html": [
       "<div>\n",
       "<style scoped>\n",
       "    .dataframe tbody tr th:only-of-type {\n",
       "        vertical-align: middle;\n",
       "    }\n",
       "\n",
       "    .dataframe tbody tr th {\n",
       "        vertical-align: top;\n",
       "    }\n",
       "\n",
       "    .dataframe thead th {\n",
       "        text-align: right;\n",
       "    }\n",
       "</style>\n",
       "<table border=\"1\" class=\"dataframe\">\n",
       "  <thead>\n",
       "    <tr style=\"text-align: right;\">\n",
       "      <th></th>\n",
       "      <th>vertices</th>\n",
       "      <th>edges</th>\n",
       "    </tr>\n",
       "  </thead>\n",
       "  <tbody>\n",
       "    <tr>\n",
       "      <th>0</th>\n",
       "      <td>500</td>\n",
       "      <td>12565</td>\n",
       "    </tr>\n",
       "    <tr>\n",
       "      <th>1</th>\n",
       "      <td>0</td>\n",
       "      <td>27</td>\n",
       "    </tr>\n",
       "    <tr>\n",
       "      <th>2</th>\n",
       "      <td>0</td>\n",
       "      <td>28</td>\n",
       "    </tr>\n",
       "    <tr>\n",
       "      <th>3</th>\n",
       "      <td>0</td>\n",
       "      <td>53</td>\n",
       "    </tr>\n",
       "    <tr>\n",
       "      <th>4</th>\n",
       "      <td>0</td>\n",
       "      <td>55</td>\n",
       "    </tr>\n",
       "  </tbody>\n",
       "</table>\n",
       "</div>"
      ],
      "text/plain": [
       "   vertices  edges\n",
       "0       500  12565\n",
       "1         0     27\n",
       "2         0     28\n",
       "3         0     53\n",
       "4         0     55"
      ]
     },
     "execution_count": 57,
     "metadata": {},
     "output_type": "execute_result"
    }
   ],
   "source": [
    "data.head()"
   ]
  },
  {
   "cell_type": "code",
   "execution_count": 58,
   "metadata": {},
   "outputs": [],
   "source": [
    "n = data.vertices[0]\n",
    "e = data.edges[0]\n",
    "edge_list = np.array(data[1:])"
   ]
  },
  {
   "cell_type": "code",
   "execution_count": 59,
   "metadata": {},
   "outputs": [],
   "source": [
    "class SolutionPrinter(cp_model.CpSolverSolutionCallback):\n",
    "  \"\"\"Print intermediate solutions.\"\"\"\n",
    "\n",
    "  def __init__(self, variables):\n",
    "    self.__variables = variables\n",
    "    self.__solution_count = 0\n",
    "    self.__solutions = []\n",
    "\n",
    "  def NewSolution(self):\n",
    "    self.__solution_count += 1\n",
    "    self.__solutions.append([self.Value(v) for v in self.__variables])\n",
    "\n",
    "  def SolutionCount(self):\n",
    "    return self.__solution_count\n",
    "\n",
    "  def GetSolutions(self):\n",
    "    return self.__solutions"
   ]
  },
  {
   "cell_type": "code",
   "execution_count": 60,
   "metadata": {},
   "outputs": [],
   "source": [
    "degrees = np.zeros((n,1))\n",
    "for edge in edge_list:\n",
    "    e1 = edge[0]\n",
    "    e2 = edge[1]\n",
    "    degrees[e1] += 1\n",
    "    degrees[e2] += 1\n",
    "max_degree_node = np.argmax(degrees)"
   ]
  },
  {
   "cell_type": "code",
   "execution_count": null,
   "metadata": {},
   "outputs": [
    {
     "name": "stdout",
     "output_type": "stream",
     "text": [
      "Number of solutions found: 0\n",
      "Number of solutions found: 0\n"
     ]
    }
   ],
   "source": [
    "max_colours = 30\n",
    "min_colours = 5\n",
    "MAX_TIME = 60.0\n",
    "\n",
    "for num_colours in range(min_colours, max_colours + 1):\n",
    "\n",
    "    model = cp_model.CpModel()\n",
    "    solver = cp_model.CpSolver()\n",
    "\n",
    "    # Sets a time limit of 10 seconds.\n",
    "    solver.parameters.max_time_in_seconds = MAX_TIME\n",
    "\n",
    "    # Create the variables\n",
    "    C = []\n",
    "    for i in range(0, n):\n",
    "        C.append(model.NewIntVar(0, num_colours - 1, \"c_\" + str(i)))\n",
    "\n",
    "    # Create the constraints\n",
    "    for edge in edge_list:\n",
    "        e1 = edge[0]\n",
    "        e2 = edge[1]\n",
    "        model.Add(C[e1] != C[e2])\n",
    "\n",
    "    # symmetry breaking\n",
    "    # Chose vertex with highest degreee and assign it the first colour\n",
    "    model.Add(C[max_degree_node] == 0)\n",
    "    \n",
    "    for i in range(1, num_colours):\n",
    "        model.Add(C[i] <= i+1);\n",
    "\n",
    "    model.Minimize(max(C))\n",
    "\n",
    "    # Call the solver.\n",
    "    solution_printer = SolutionPrinter(C)\n",
    "    status = solver.SolveWithSolutionObserver(model, solution_printer)\n",
    "    #print(\"Number of colours: %i\" % num_colours)\n",
    "    print('Number of solutions found: %i' % solution_printer.SolutionCount())\n",
    "    \n",
    "    if solution_printer.SolutionCount() > 0:\n",
    "        break\n",
    "        \n",
    "# Now ensure you get solution with minimum\n",
    "solutions = solution_printer.GetSolutions()\n",
    "max_color = [max(C) for C in solutions]\n",
    "best_index = np.argmin(max_color)\n",
    "node_count = max_color[best_index]\n",
    "solution = solutions[best_index]"
   ]
  },
  {
   "cell_type": "code",
   "execution_count": 55,
   "metadata": {},
   "outputs": [
    {
     "data": {
      "text/plain": [
       "4"
      ]
     },
     "execution_count": 55,
     "metadata": {},
     "output_type": "execute_result"
    }
   ],
   "source": [
    "node_count"
   ]
  },
  {
   "cell_type": "code",
   "execution_count": 29,
   "metadata": {},
   "outputs": [
    {
     "data": {
      "text/plain": [
       "26"
      ]
     },
     "execution_count": 29,
     "metadata": {},
     "output_type": "execute_result"
    }
   ],
   "source": [
    "num_colours"
   ]
  },
  {
   "cell_type": "code",
   "execution_count": 7,
   "metadata": {},
   "outputs": [],
   "source": [
    "min_colours = 2 if n <= 4 else 3"
   ]
  },
  {
   "cell_type": "code",
   "execution_count": 8,
   "metadata": {},
   "outputs": [
    {
     "data": {
      "text/plain": [
       "3"
      ]
     },
     "execution_count": 8,
     "metadata": {},
     "output_type": "execute_result"
    }
   ],
   "source": [
    "min_colours"
   ]
  },
  {
   "cell_type": "code",
   "execution_count": 45,
   "metadata": {},
   "outputs": [
    {
     "name": "stdout",
     "output_type": "stream",
     "text": [
      "Number of solutions found: 0\n"
     ]
    }
   ],
   "source": [
    "max_colours = 6\n",
    "MAX_TIME = 300.0\n",
    "model = cp_model.CpModel()\n",
    "solver = cp_model.CpSolver()\n",
    "\n",
    "# Sets a time limit of 10 seconds.\n",
    "solver.parameters.max_time_in_seconds = MAX_TIME\n",
    "\n",
    "# Create the variables\n",
    "C = []\n",
    "for i in range(0, n):\n",
    "    C.append(model.NewIntVar(0, max_colours - 1, \"c_\" + str(i)))\n",
    "\n",
    "# Create the constraints\n",
    "for edge in edge_list:\n",
    "    e1 = edge[0]\n",
    "    e2 = edge[1]\n",
    "    model.Add(C[e1] != C[e2])\n",
    "\n",
    "# symmetry breaking\n",
    "# Chose vertex with highest degreee and assign it the first colour\n",
    "model.Add(C[max_degree_node] == 0)\n",
    "\n",
    "model.Minimize(max(C))\n",
    "\n",
    "\n",
    "# Call the solver.\n",
    "solution_printer = SolutionPrinter(C)\n",
    "status = solver.SolveWithSolutionObserver(model, solution_printer)\n",
    "#print(\"Number of colours: %i\" % num_colours)\n",
    "print('Number of solutions found: %i' % solution_printer.SolutionCount())"
   ]
  },
  {
   "cell_type": "code",
   "execution_count": 44,
   "metadata": {},
   "outputs": [],
   "source": [
    "solutions = solution_printer.GetSolutions()\n",
    "for i in range(0, len(solutions)):\n",
    "    print(max(solutions[i]))\n",
    "\n"
   ]
  },
  {
   "cell_type": "code",
   "execution_count": 11,
   "metadata": {},
   "outputs": [],
   "source": [
    "??model.Minimize"
   ]
  },
  {
   "cell_type": "code",
   "execution_count": 30,
   "metadata": {},
   "outputs": [
    {
     "data": {
      "text/plain": [
       "[1,\n",
       " 2,\n",
       " 0,\n",
       " 0,\n",
       " 1,\n",
       " 0,\n",
       " 3,\n",
       " 1,\n",
       " 1,\n",
       " 0,\n",
       " 4,\n",
       " 1,\n",
       " 2,\n",
       " 1,\n",
       " 0,\n",
       " 2,\n",
       " 0,\n",
       " 2,\n",
       " 0,\n",
       " 0,\n",
       " 0,\n",
       " 0,\n",
       " 1,\n",
       " 1,\n",
       " 1,\n",
       " 0,\n",
       " 3,\n",
       " 0,\n",
       " 2,\n",
       " 1,\n",
       " 1,\n",
       " 3,\n",
       " 1,\n",
       " 3,\n",
       " 0,\n",
       " 2,\n",
       " 0,\n",
       " 0,\n",
       " 2,\n",
       " 2,\n",
       " 3,\n",
       " 0,\n",
       " 0,\n",
       " 1,\n",
       " 1,\n",
       " 2,\n",
       " 1,\n",
       " 2,\n",
       " 1,\n",
       " 2,\n",
       " 3,\n",
       " 2,\n",
       " 3,\n",
       " 2,\n",
       " 2,\n",
       " 4,\n",
       " 2,\n",
       " 4,\n",
       " 0,\n",
       " 3,\n",
       " 4,\n",
       " 3,\n",
       " 4,\n",
       " 4,\n",
       " 2,\n",
       " 3,\n",
       " 3,\n",
       " 4,\n",
       " 4,\n",
       " 4]"
      ]
     },
     "execution_count": 30,
     "metadata": {},
     "output_type": "execute_result"
    }
   ],
   "source": [
    "solutions[0]"
   ]
  },
  {
   "cell_type": "code",
   "execution_count": null,
   "metadata": {},
   "outputs": [],
   "source": []
  }
 ],
 "metadata": {
  "kernelspec": {
   "display_name": "Python 3",
   "language": "python",
   "name": "python3"
  },
  "language_info": {
   "codemirror_mode": {
    "name": "ipython",
    "version": 3
   },
   "file_extension": ".py",
   "mimetype": "text/x-python",
   "name": "python",
   "nbconvert_exporter": "python",
   "pygments_lexer": "ipython3",
   "version": "3.6.6"
  }
 },
 "nbformat": 4,
 "nbformat_minor": 2
}
