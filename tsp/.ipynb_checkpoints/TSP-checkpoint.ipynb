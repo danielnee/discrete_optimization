{
 "cells": [
  {
   "cell_type": "code",
   "execution_count": 21,
   "metadata": {
    "collapsed": true
   },
   "outputs": [],
   "source": [
    "import pandas as pd\n",
    "import numpy as np\n",
    "import matplotlib.pyplot as plt\n",
    "import time\n",
    "import random\n",
    "\n",
    "\n",
    "from queue import PriorityQueue\n",
    "from sklearn.neighbors import NearestNeighbors\n",
    "from numba import jit\n",
    "\n",
    "%matplotlib inline"
   ]
  },
  {
   "cell_type": "code",
   "execution_count": 33,
   "metadata": {
    "collapsed": false
   },
   "outputs": [],
   "source": [
    "data_file = \"./data/tsp_70_1\"\n",
    "data = pd.read_csv(data_file, sep=\" \", names=[\"x\", \"y\"], dtype={\"x\":float, \"y\":float})"
   ]
  },
  {
   "cell_type": "code",
   "execution_count": 34,
   "metadata": {
    "collapsed": false
   },
   "outputs": [
    {
     "data": {
      "text/html": [
       "<div>\n",
       "<table border=\"1\" class=\"dataframe\">\n",
       "  <thead>\n",
       "    <tr style=\"text-align: right;\">\n",
       "      <th></th>\n",
       "      <th>x</th>\n",
       "      <th>y</th>\n",
       "    </tr>\n",
       "  </thead>\n",
       "  <tbody>\n",
       "    <tr>\n",
       "      <th>0</th>\n",
       "      <td>70.0</td>\n",
       "      <td>NaN</td>\n",
       "    </tr>\n",
       "    <tr>\n",
       "      <th>1</th>\n",
       "      <td>67.0</td>\n",
       "      <td>99.0</td>\n",
       "    </tr>\n",
       "    <tr>\n",
       "      <th>2</th>\n",
       "      <td>48.0</td>\n",
       "      <td>83.0</td>\n",
       "    </tr>\n",
       "    <tr>\n",
       "      <th>3</th>\n",
       "      <td>75.0</td>\n",
       "      <td>81.0</td>\n",
       "    </tr>\n",
       "    <tr>\n",
       "      <th>4</th>\n",
       "      <td>8.0</td>\n",
       "      <td>19.0</td>\n",
       "    </tr>\n",
       "  </tbody>\n",
       "</table>\n",
       "</div>"
      ],
      "text/plain": [
       "      x     y\n",
       "0  70.0   NaN\n",
       "1  67.0  99.0\n",
       "2  48.0  83.0\n",
       "3  75.0  81.0\n",
       "4   8.0  19.0"
      ]
     },
     "execution_count": 34,
     "metadata": {},
     "output_type": "execute_result"
    }
   ],
   "source": [
    "data.head()"
   ]
  },
  {
   "cell_type": "code",
   "execution_count": 35,
   "metadata": {
    "collapsed": true
   },
   "outputs": [],
   "source": [
    "n = int(data[\"x\"][0])"
   ]
  },
  {
   "cell_type": "code",
   "execution_count": 36,
   "metadata": {
    "collapsed": true
   },
   "outputs": [],
   "source": [
    "class Vertex:\n",
    "    \n",
    "    def __init__(self, index, x, y):\n",
    "        self.index = index\n",
    "        self.x = x\n",
    "        self.y = y\n",
    "\n",
    "class Distance(object):\n",
    "\n",
    "    def __init__(self, solution, distance):\n",
    "        self.solution = solution\n",
    "        self.distance = distance\n",
    "\n",
    "    def __lt__(self, other):\n",
    "        return self.distance < other.distance\n",
    "    \n",
    "class VertexDistance(object):\n",
    "\n",
    "    def __init__(self, index, distance):\n",
    "        self.index = index\n",
    "        self.distance = distance\n",
    "        \n",
    "    def __lt__(self, other):\n",
    "        return self.distance < other.distance\n",
    "\n",
    "\n",
    "vertices = []\n",
    "points = []\n",
    "for i in range(1, n+1):\n",
    "    vertices.append(Vertex(i-1, data[\"x\"][i], data[\"y\"][i]))\n",
    "    points.append((data[\"x\"][i], data[\"y\"][i]))"
   ]
  },
  {
   "cell_type": "code",
   "execution_count": 37,
   "metadata": {
    "collapsed": true
   },
   "outputs": [],
   "source": [
    "def plotTSP(paths, points, num_iters=1):\n",
    "\n",
    "    \"\"\"\n",
    "    path: List of lists with the different orders in which the nodes are visited\n",
    "    points: coordinates for the different nodes\n",
    "    num_iters: number of paths that are in the path list\n",
    "    \n",
    "    \"\"\"\n",
    "\n",
    "    # Unpack the primary TSP path and transform it into a list of ordered \n",
    "    # coordinates\n",
    "\n",
    "    x = []; y = []\n",
    "    for i in paths[0]:\n",
    "        x.append(points[i][0])\n",
    "        y.append(points[i][1])\n",
    "    plt.plot(x, y, 'co')\n",
    "\n",
    "    # Set a scale for the arrow heads (there should be a reasonable default for this, WTF?)\n",
    "    a_scale = float(max(x))/float(100)\n",
    "\n",
    "    # Draw the older paths, if provided\n",
    "    if num_iters > 1:\n",
    "\n",
    "        for i in range(1, num_iters):\n",
    "\n",
    "            # Transform the old paths into a list of coordinates\n",
    "            xi = []; yi = [];\n",
    "            for j in paths[i]:\n",
    "                xi.append(points[j][0])\n",
    "                yi.append(points[j][1])\n",
    "\n",
    "            plt.arrow(xi[-1], yi[-1], (xi[0] - xi[-1]), (yi[0] - yi[-1]), \n",
    "                    head_width = a_scale, color = 'r', \n",
    "                    length_includes_head = True, ls = 'dashed',\n",
    "                    width = 0.001/float(num_iters))\n",
    "            for i in range(0, len(x) - 1):\n",
    "                plt.arrow(xi[i], yi[i], (xi[i+1] - xi[i]), (yi[i+1] - yi[i]),\n",
    "                        head_width = a_scale, color = 'r', length_includes_head = True,\n",
    "                        ls = 'dashed', width = 0.001/float(num_iters))\n",
    "\n",
    "    # Draw the primary path for the TSP problem\n",
    "    plt.arrow(x[-1], y[-1], (x[0] - x[-1]), (y[0] - y[-1]), head_width = a_scale, \n",
    "            color ='g', length_includes_head=True)\n",
    "    for i in range(0,len(x)-1):\n",
    "        plt.arrow(x[i], y[i], (x[i+1] - x[i]), (y[i+1] - y[i]), head_width = a_scale,\n",
    "                color = 'g', length_includes_head = True)\n",
    "\n",
    "    #Set axis too slitghtly larger than the set of x and y\n",
    "    plt.xlim(-1, max(x)*1.1)\n",
    "    plt.ylim(-1, max(y)*1.1)\n",
    "    plt.show()"
   ]
  },
  {
   "cell_type": "code",
   "execution_count": 38,
   "metadata": {
    "collapsed": false
   },
   "outputs": [],
   "source": [
    "def euclidean_distance(vertex_1, vertex_2):\n",
    "    return np.sqrt( np.square(vertex_1.x - vertex_2.x)  + np.square(vertex_1.y - vertex_2.y) )\n",
    "\n",
    "def objective_function(route):\n",
    "    \"\"\"\n",
    "    Assume vertices is route starting and ending at same vertex e.g.\n",
    "    [1, 3, 2, 0, 1]\n",
    "    \"\"\"\n",
    "    head_route = route[0:(len(route)-1)]\n",
    "    tail_route = route[1:]\n",
    "    combined_route = zip(head_route, tail_route)\n",
    "    dist_sum = 0.0\n",
    "    for vertex_pair in combined_route:\n",
    "        dist_sum += euclidean_distance(vertex_pair[0], vertex_pair[1])\n",
    "    return dist_sum\n",
    "    \n",
    "def is_valid_hamiltonian_cycle(route, n):\n",
    "    # Ensure it starts and ends at same node\n",
    "    start_and_end = route[0] == route[-1]\n",
    "    \n",
    "    # Need to ensure all vertices 0,..,n-1 are present\n",
    "    all_index = list(range(0, n))\n",
    "    indexes = sorted(list(set([vertex.index for vertex in route])))\n",
    "    index_present = all_index == indexes\n",
    "    \n",
    "    return start_and_end and index_present\n",
    "\n",
    "def tour_string(vertices):\n",
    "    return \" \".join([str(i.index) for i in vertices])\n",
    "\n",
    "def tour_list(vertices):\n",
    "    return [i.index for i in vertices]\n",
    "\n",
    "# Improved NN approach\n",
    "@jit\n",
    "def nearest_neighbour_improved(vertices, n, points, max_search=0):\n",
    "    nn_max = min(n, 500)\n",
    "    remaining_indexes = set(range(0, n))\n",
    "    starting_vertex = np.random.randint(0, n)\n",
    "    remaining_indexes.remove(starting_vertex)\n",
    "    tour = [vertices[starting_vertex]]\n",
    "    used_index = set([starting_vertex])\n",
    "    \n",
    "    nbrs = NearestNeighbors(n_neighbors=nn_max, algorithm='auto').fit(points)\n",
    "    distances, indices = nbrs.kneighbors(points)\n",
    "    \n",
    "    while len(remaining_indexes) > 0:\n",
    "        cur_vertex = tour[-1]\n",
    "        # Search nearest neighbours first\n",
    "        nn_index = indices[cur_vertex.index]\n",
    "        found_in_nearest = False\n",
    "        for i in nn_index[1:]:\n",
    "            if i not in used_index:\n",
    "                # Found nearest, update the tour\n",
    "                tour.append(vertices[i])\n",
    "                remaining_indexes.remove(i)\n",
    "                    \n",
    "                used_index.add(i)\n",
    "                found_in_nearest = True\n",
    "                break\n",
    "                \n",
    "        if not found_in_nearest:\n",
    "            solution_queue = PriorityQueue()\n",
    "\n",
    "            num_checked = 0\n",
    "            for i in remaining_indexes:\n",
    "                dist = euclidean_distance(cur_vertex, vertices[i])\n",
    "                solution_queue.put(VertexDistance(i, dist))\n",
    "                num_checked += 1\n",
    "\n",
    "                if (max_search != 0 and num_checked > max_search):\n",
    "                    break\n",
    "\n",
    "            # Select the shortest distance\n",
    "            nearest = solution_queue.get()\n",
    "\n",
    "            # Update the tour\n",
    "            tour.append(vertices[nearest.index])\n",
    "            remaining_indexes.remove(nearest.index)\n",
    "            used_index.add(nearest.index)\n",
    "            \n",
    "    # Add final node to tour\n",
    "    tour.append(tour[0])\n",
    "        \n",
    "    return tour\n",
    "            \n",
    "@jit\n",
    "def nearest_neighbour(vertices, n, max_search=0):\n",
    "    remaining_indexes = set(range(0, n))\n",
    "    starting_vertex = np.random.randint(0, n)\n",
    "    remaining_indexes.remove(starting_vertex)\n",
    "    tour = [vertices[starting_vertex]]\n",
    "    \n",
    "    while len(remaining_indexes) > 0:\n",
    "        cur_vertex = tour[-1]\n",
    "        solution_queue = PriorityQueue()\n",
    "        \n",
    "        num_checked = 0\n",
    "        for i in remaining_indexes:\n",
    "            dist = euclidean_distance(cur_vertex, vertices[i])\n",
    "            solution_queue.put(VertexDistance(i, dist))\n",
    "            num_checked += 1\n",
    "            \n",
    "            if (max_search != 0 and num_checked > max_search):\n",
    "                break\n",
    "            \n",
    "        # Select the shortest distance\n",
    "        nearest = solution_queue.get()\n",
    "        \n",
    "        # Update the tour\n",
    "        tour.append(vertices[nearest.index])\n",
    "        remaining_indexes.remove(nearest.index)\n",
    "        \n",
    "    # Add final node to tour\n",
    "    tour.append(tour[0])\n",
    "        \n",
    "    return tour\n",
    "\n",
    "@jit\n",
    "def two_opt_rand(vertices, n, points, route = None):\n",
    "    \n",
    "    route = nearest_neighbour_improved(vertices, n, points) if route == None else route\n",
    "    cur_distance = objective_function(route)\n",
    "    while True:\n",
    "        # Randomely pick an edge\n",
    "        i = np.random.randint(1, n)\n",
    "       \n",
    "        solution_queue = PriorityQueue()\n",
    "        for j in range(i+1, len(route)):\n",
    "            new_route = two_opt_swap(i, j, route, n)\n",
    "            value = objective_function(new_route)\n",
    "            solution_queue.put(Distance(new_route, value))\n",
    "            \n",
    "        best_move = solution_queue.get()\n",
    "        best_distance = best_move.distance\n",
    "        \n",
    "        if (best_distance < cur_distance):\n",
    "            cur_distance = best_distance\n",
    "            route = best_move.solution\n",
    "        else:\n",
    "            break\n",
    "            \n",
    "    return route\n",
    "\n",
    "@jit\n",
    "def two_opt_rand_2(vertices, n, points, route):\n",
    "    # Randomely pick an edge\n",
    "    i = np.random.randint(1, n)\n",
    "    j = np.random.randint(i+1, len(route))\n",
    "    new_route = two_opt_swap(i, j, route, n)\n",
    "    return new_route\n",
    "    \n",
    "\n",
    "@jit\n",
    "def two_opt_swap(i, j, route, n):\n",
    "    new_route = route[:]\n",
    "    new_route[i:j] = route[j-1:i-1:-1] # this is the 2woptSwap\n",
    "    assert(is_valid_hamiltonian_cycle(new_route, n))\n",
    "    return new_route\n",
    "\n",
    "@jit\n",
    "def two_opt_full(vertices, n, points, seconds_timeout = 60):\n",
    "        \n",
    "    route = nearest_neighbour_improved(vertices, n, points)\n",
    "    cur_distance = objective_function(route)\n",
    "    start_time = round(time.time())\n",
    "    \n",
    "    while True:\n",
    "        print(cur_distance)\n",
    "        \n",
    "        # Check timeout\n",
    "        time_now = round(time.time())\n",
    "        time_diff = time_now - start_time\n",
    "        if (seconds_timeout != -1 and time_diff > seconds_timeout):\n",
    "            print(\"TIMEOUT\")\n",
    "            break\n",
    "\n",
    "        # Randomely pick an edge\n",
    "        solution_queue = PriorityQueue()\n",
    "        for i in range(1, n):\n",
    "            # Check timeout\n",
    "            time_now = round(time.time())\n",
    "            time_diff = time_now - start_time\n",
    "            if (seconds_timeout != -1 and time_diff > seconds_timeout):\n",
    "                print(\"TIMEOUT\")\n",
    "                break\n",
    "            \n",
    "            for j in range(i+1, len(route)):\n",
    "                new_route = two_opt_swap(i, j, route, n)\n",
    "                value = objective_function(new_route)\n",
    "                solution_queue.put(Distance(new_route, value))\n",
    "\n",
    "        best_move = solution_queue.get()\n",
    "        best_distance = best_move.distance\n",
    "\n",
    "        if (best_distance < cur_distance):\n",
    "            cur_distance = best_distance\n",
    "            route = best_move.solution\n",
    "        else:\n",
    "            break\n",
    "            \n",
    "    return route\n",
    "\n",
    "# 3 opt\n",
    "# k-opt"
   ]
  },
  {
   "cell_type": "code",
   "execution_count": 75,
   "metadata": {
    "collapsed": false
   },
   "outputs": [],
   "source": [
    "@jit\n",
    "def iterated_local_search(vertices, n, points, max_searches = 50):\n",
    "    route = nearest_neighbour_improved(vertices, n, points)\n",
    "    cur_distance = objective_function(route)\n",
    "    \n",
    "    for i in range(0, max_searches):\n",
    "        route_proposed = two_opt_rand(vertices, n, points, route)\n",
    "        distance_proposed =  objective_function(route_proposed)\n",
    "        print(distance_proposed)\n",
    "        \n",
    "        if (distance_proposed < cur_distance):\n",
    "            cur_distance = distance_proposed\n",
    "            route = route_proposed\n",
    "    \n",
    "    return route\n",
    "\n",
    "@jit\n",
    "def metropolis_search(vertices, n, points):\n",
    "    t = 5\n",
    "    route = nearest_neighbour_improved(vertices, n, points)\n",
    "    cur_distance = objective_function(route)\n",
    "    \n",
    "    for i in range(0, 100000):\n",
    "    \n",
    "        new_route = two_opt_rand_2(vertices, n, points, route)\n",
    "        new_distance = objective_function(route)\n",
    "        prob = np.exp(-(new_distance - cur_distance) / t)\n",
    "        u = random.uniform(0, 1)\n",
    "        \n",
    "        if new_distance < cur_distance:\n",
    "            cur_distance = new_distance\n",
    "            route = new_route\n",
    "        elif u <= prob:\n",
    "            cur_distance = new_distance\n",
    "            route = new_route\n",
    "            \n",
    "        if i % 1000 == 0:\n",
    "            print(i)\n",
    "    \n",
    "    return route\n",
    "    \n",
    "    "
   ]
  },
  {
   "cell_type": "code",
   "execution_count": null,
   "metadata": {
    "collapsed": false
   },
   "outputs": [
    {
     "name": "stdout",
     "output_type": "stream",
     "text": [
      "0\n",
      "1000\n",
      "2000\n",
      "3000\n",
      "4000\n",
      "5000\n",
      "6000\n",
      "7000\n",
      "8000\n",
      "9000\n",
      "10000\n",
      "11000\n",
      "12000\n",
      "13000\n",
      "14000\n",
      "15000\n",
      "16000\n",
      "17000\n",
      "18000\n",
      "19000\n",
      "20000\n",
      "21000\n",
      "22000\n",
      "23000\n",
      "24000\n",
      "25000\n",
      "26000\n",
      "27000\n",
      "28000\n",
      "29000\n",
      "30000\n",
      "31000\n",
      "32000\n",
      "33000\n",
      "34000\n",
      "35000\n",
      "36000\n",
      "37000\n",
      "38000\n",
      "39000"
     ]
    }
   ],
   "source": [
    "a = metropolis_search(vertices, n, points)"
   ]
  },
  {
   "cell_type": "code",
   "execution_count": null,
   "metadata": {
    "collapsed": false
   },
   "outputs": [],
   "source": [
    "print(objective_function(a))"
   ]
  },
  {
   "cell_type": "code",
   "execution_count": null,
   "metadata": {
    "collapsed": false
   },
   "outputs": [],
   "source": [
    "print(tour_list(a))"
   ]
  },
  {
   "cell_type": "code",
   "execution_count": 74,
   "metadata": {
    "collapsed": false
   },
   "outputs": [
    {
     "data": {
      "image/png": "[encoded data removed]",
      "text/plain": [
       "<matplotlib.figure.Figure at 0x11a69e198>"
      ]
     },
     "metadata": {},
     "output_type": "display_data"
    }
   ],
   "source": [
    "plotTSP([tour_list(a)[:-1]], points)"
   ]
  },
  {
   "cell_type": "code",
   "execution_count": 140,
   "metadata": {
    "collapsed": false
   },
   "outputs": [
    {
     "name": "stdout",
     "output_type": "stream",
     "text": [
      "2746.32687084\n"
     ]
    }
   ],
   "source": [
    "print(objective_function(a))"
   ]
  },
  {
   "cell_type": "code",
   "execution_count": 71,
   "metadata": {
    "collapsed": false
   },
   "outputs": [
    {
     "data": {
      "text/plain": [
       "[(0.0, 0.0), (0.0, 0.5), (0.0, 1.0), (1.0, 1.0), (1.0, 0.0)]"
      ]
     },
     "execution_count": 71,
     "metadata": {},
     "output_type": "execute_result"
    }
   ],
   "source": [
    "points"
   ]
  },
  {
   "cell_type": "code",
   "execution_count": 141,
   "metadata": {
    "collapsed": false
   },
   "outputs": [
    {
     "data": {
      "text/plain": [
       "[1, 2, 3]"
      ]
     },
     "execution_count": 141,
     "metadata": {},
     "output_type": "execute_result"
    }
   ],
   "source": [
    "a[0:3]"
   ]
  },
  {
   "cell_type": "code",
   "execution_count": 157,
   "metadata": {
    "collapsed": false
   },
   "outputs": [
    {
     "data": {
      "text/plain": [
       "2"
      ]
     },
     "execution_count": 157,
     "metadata": {},
     "output_type": "execute_result"
    }
   ],
   "source": [
    "max(0,2)"
   ]
  },
  {
   "cell_type": "code",
   "execution_count": 178,
   "metadata": {
    "collapsed": false
   },
   "outputs": [
    {
     "data": {
      "text/plain": [
       "[]"
      ]
     },
     "execution_count": 178,
     "metadata": {},
     "output_type": "execute_result"
    }
   ],
   "source": [
    "a[0:0]"
   ]
  },
  {
   "cell_type": "code",
   "execution_count": 22,
   "metadata": {
    "collapsed": false
   },
   "outputs": [],
   "source": [
    "nbrs = NearestNeighbors(n_neighbors=20, algorithm='auto').fit(points)\n",
    "distances, indices = nbrs.kneighbors(points)"
   ]
  },
  {
   "cell_type": "code",
   "execution_count": 27,
   "metadata": {
    "collapsed": false
   },
   "outputs": [
    {
     "data": {
      "text/plain": [
       "array([  0.        ,   8.        ,   8.06225775,   8.24621125,\n",
       "         8.60232527,   9.05538514,   9.21954446,  13.89244399,\n",
       "        14.03566885,  15.        ,  16.03121954,  16.64331698,\n",
       "        16.76305461,  18.97366596,  19.02629759,  19.84943324,\n",
       "        19.84943324,  19.84943324,  20.22374842,  20.59126028])"
      ]
     },
     "execution_count": 27,
     "metadata": {},
     "output_type": "execute_result"
    }
   ],
   "source": [
    "indices[1]\n",
    "distances[1]"
   ]
  },
  {
   "cell_type": "code",
   "execution_count": 24,
   "metadata": {
    "collapsed": false
   },
   "outputs": [
    {
     "data": {
      "text/plain": [
       "array([[  0.        ,   7.21110255,  10.04987562, ...,  29.42787794,\n",
       "         30.01666204,  30.88689042],\n",
       "       [  0.        ,   8.        ,   8.06225775, ...,  19.84943324,\n",
       "         20.22374842,  20.59126028],\n",
       "       [  0.        ,   6.32455532,   9.48683298, ...,  27.51363298,\n",
       "         28.7923601 ,  29.73213749],\n",
       "       ..., \n",
       "       [  0.        ,   6.08276253,   9.21954446, ...,  26.        ,\n",
       "         26.57066051,  28.7923601 ],\n",
       "       [  0.        ,   9.43398113,  10.77032961, ...,  29.        ,\n",
       "         30.47950131,  30.59411708],\n",
       "       [  0.        ,   6.40312424,  11.18033989, ...,  26.07680962,\n",
       "         26.92582404,  29.68164416]])"
      ]
     },
     "execution_count": 24,
     "metadata": {},
     "output_type": "execute_result"
    }
   ],
   "source": [
    "distances"
   ]
  },
  {
   "cell_type": "code",
   "execution_count": 60,
   "metadata": {
    "collapsed": false
   },
   "outputs": [
    {
     "data": {
      "text/plain": [
       "150"
      ]
     },
     "execution_count": 60,
     "metadata": {},
     "output_type": "execute_result"
    }
   ],
   "source": [
    "n"
   ]
  },
  {
   "cell_type": "code",
   "execution_count": null,
   "metadata": {
    "collapsed": true
   },
   "outputs": [],
   "source": []
  }
 ],
 "metadata": {
  "kernelspec": {
   "display_name": "Python 3",
   "language": "python",
   "name": "python3"
  },
  "language_info": {
   "codemirror_mode": {
    "name": "ipython",
    "version": 3
   },
   "file_extension": ".py",
   "mimetype": "text/x-python",
   "name": "python",
   "nbconvert_exporter": "python",
   "pygments_lexer": "ipython3",
   "version": "3.4.5"
  }
 },
 "nbformat": 4,
 "nbformat_minor": 2
}
