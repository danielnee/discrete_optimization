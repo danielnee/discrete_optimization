{
 "cells": [
  {
   "cell_type": "code",
   "execution_count": 48,
   "metadata": {
    "collapsed": true
   },
   "outputs": [],
   "source": [
    "import pandas as pd\n",
    "import numpy as np\n",
    "import matplotlib.pyplot as plt\n",
    "\n",
    "from queue import PriorityQueue\n",
    "from sklearn.neighbors import NearestNeighbors\n",
    "from numba import jit\n",
    "\n",
    "%matplotlib inline"
   ]
  },
  {
   "cell_type": "code",
   "execution_count": 2,
   "metadata": {
    "collapsed": true
   },
   "outputs": [],
   "source": [
    "data_file = \"./data/tsp_150_2\"\n",
    "data = pd.read_csv(data_file, sep=\" \", names=[\"x\", \"y\"], dtype={\"x\":float, \"y\":float})"
   ]
  },
  {
   "cell_type": "code",
   "execution_count": 3,
   "metadata": {},
   "outputs": [
    {
     "data": {
      "text/html": [
       "<div>\n",
       "<style>\n",
       "    .dataframe thead tr:only-child th {\n",
       "        text-align: right;\n",
       "    }\n",
       "\n",
       "    .dataframe thead th {\n",
       "        text-align: left;\n",
       "    }\n",
       "\n",
       "    .dataframe tbody tr th {\n",
       "        vertical-align: top;\n",
       "    }\n",
       "</style>\n",
       "<table border=\"1\" class=\"dataframe\">\n",
       "  <thead>\n",
       "    <tr style=\"text-align: right;\">\n",
       "      <th></th>\n",
       "      <th>x</th>\n",
       "      <th>y</th>\n",
       "    </tr>\n",
       "  </thead>\n",
       "  <tbody>\n",
       "    <tr>\n",
       "      <th>0</th>\n",
       "      <td>150.0</td>\n",
       "      <td>NaN</td>\n",
       "    </tr>\n",
       "    <tr>\n",
       "      <th>1</th>\n",
       "      <td>3099.0</td>\n",
       "      <td>173.0</td>\n",
       "    </tr>\n",
       "    <tr>\n",
       "      <th>2</th>\n",
       "      <td>2178.0</td>\n",
       "      <td>978.0</td>\n",
       "    </tr>\n",
       "    <tr>\n",
       "      <th>3</th>\n",
       "      <td>138.0</td>\n",
       "      <td>1610.0</td>\n",
       "    </tr>\n",
       "    <tr>\n",
       "      <th>4</th>\n",
       "      <td>2082.0</td>\n",
       "      <td>1753.0</td>\n",
       "    </tr>\n",
       "  </tbody>\n",
       "</table>\n",
       "</div>"
      ],
      "text/plain": [
       "        x       y\n",
       "0   150.0     NaN\n",
       "1  3099.0   173.0\n",
       "2  2178.0   978.0\n",
       "3   138.0  1610.0\n",
       "4  2082.0  1753.0"
      ]
     },
     "execution_count": 3,
     "metadata": {},
     "output_type": "execute_result"
    }
   ],
   "source": [
    "data.head()"
   ]
  },
  {
   "cell_type": "code",
   "execution_count": 4,
   "metadata": {
    "collapsed": true
   },
   "outputs": [],
   "source": [
    "n = int(data[\"x\"][0])"
   ]
  },
  {
   "cell_type": "code",
   "execution_count": 21,
   "metadata": {
    "collapsed": true
   },
   "outputs": [],
   "source": [
    "class Vertex:\n",
    "    \n",
    "    def __init__(self, index, x, y):\n",
    "        self.index = index\n",
    "        self.x = x\n",
    "        self.y = y\n",
    "\n",
    "class Distance(object):\n",
    "\n",
    "    def __init__(self, solution, distance):\n",
    "        self.solution = solution\n",
    "        self.distance = distance\n",
    "\n",
    "    def __lt__(self, other):\n",
    "        return self.distance < other.distance\n",
    "    \n",
    "class VertexDistance(object):\n",
    "\n",
    "    def __init__(self, index, distance):\n",
    "        self.index = index\n",
    "        self.distance = distance\n",
    "        \n",
    "    def __lt__(self, other):\n",
    "        return self.distance < other.distance\n",
    "\n",
    "\n",
    "vertices = []\n",
    "points = []\n",
    "for i in range(1, n+1):\n",
    "    vertices.append(Vertex(i-1, data[\"x\"][i], data[\"y\"][i]))\n",
    "    points.append((data[\"x\"][i], data[\"y\"][i]))"
   ]
  },
  {
   "cell_type": "code",
   "execution_count": 22,
   "metadata": {
    "collapsed": true
   },
   "outputs": [],
   "source": [
    "def plotTSP(paths, points, num_iters=1):\n",
    "\n",
    "    \"\"\"\n",
    "    path: List of lists with the different orders in which the nodes are visited\n",
    "    points: coordinates for the different nodes\n",
    "    num_iters: number of paths that are in the path list\n",
    "    \n",
    "    \"\"\"\n",
    "\n",
    "    # Unpack the primary TSP path and transform it into a list of ordered \n",
    "    # coordinates\n",
    "\n",
    "    x = []; y = []\n",
    "    for i in paths[0]:\n",
    "        x.append(points[i][0])\n",
    "        y.append(points[i][1])\n",
    "    plt.plot(x, y, 'co')\n",
    "\n",
    "    # Set a scale for the arrow heads (there should be a reasonable default for this, WTF?)\n",
    "    a_scale = float(max(x))/float(100)\n",
    "\n",
    "    # Draw the older paths, if provided\n",
    "    if num_iters > 1:\n",
    "\n",
    "        for i in range(1, num_iters):\n",
    "\n",
    "            # Transform the old paths into a list of coordinates\n",
    "            xi = []; yi = [];\n",
    "            for j in paths[i]:\n",
    "                xi.append(points[j][0])\n",
    "                yi.append(points[j][1])\n",
    "\n",
    "            plt.arrow(xi[-1], yi[-1], (xi[0] - xi[-1]), (yi[0] - yi[-1]), \n",
    "                    head_width = a_scale, color = 'r', \n",
    "                    length_includes_head = True, ls = 'dashed',\n",
    "                    width = 0.001/float(num_iters))\n",
    "            for i in range(0, len(x) - 1):\n",
    "                plt.arrow(xi[i], yi[i], (xi[i+1] - xi[i]), (yi[i+1] - yi[i]),\n",
    "                        head_width = a_scale, color = 'r', length_includes_head = True,\n",
    "                        ls = 'dashed', width = 0.001/float(num_iters))\n",
    "\n",
    "    # Draw the primary path for the TSP problem\n",
    "    plt.arrow(x[-1], y[-1], (x[0] - x[-1]), (y[0] - y[-1]), head_width = a_scale, \n",
    "            color ='g', length_includes_head=True)\n",
    "    for i in range(0,len(x)-1):\n",
    "        plt.arrow(x[i], y[i], (x[i+1] - x[i]), (y[i+1] - y[i]), head_width = a_scale,\n",
    "                color = 'g', length_includes_head = True)\n",
    "\n",
    "    #Set axis too slitghtly larger than the set of x and y\n",
    "    plt.xlim(-1, max(x)*1.1)\n",
    "    plt.ylim(-1, max(y)*1.1)\n",
    "    plt.show()"
   ]
  },
  {
   "cell_type": "code",
   "execution_count": 44,
   "metadata": {
    "collapsed": true
   },
   "outputs": [],
   "source": [
    "def euclidean_distance(vertex_1, vertex_2):\n",
    "    return np.sqrt( np.square(vertex_1.x - vertex_2.x)  + np.square(vertex_1.y - vertex_2.y) )\n",
    "\n",
    "def objective_function(route):\n",
    "    \"\"\"\n",
    "    Assume vertices is route starting and ending at same vertex e.g.\n",
    "    [1, 3, 2, 0, 1]\n",
    "    \"\"\"\n",
    "    head_route = route[0:(len(route)-1)]\n",
    "    tail_route = route[1:]\n",
    "    combined_route = zip(head_route, tail_route)\n",
    "    dist_sum = 0.0\n",
    "    for vertex_pair in combined_route:\n",
    "        dist_sum += euclidean_distance(vertex_pair[0], vertex_pair[1])\n",
    "    return dist_sum\n",
    "    \n",
    "def is_valid_hamiltonian_cycle(route, n):\n",
    "    # Ensure it starts and ends at same node\n",
    "    start_and_end = route[0] == route[-1]\n",
    "    \n",
    "    # Need to ensure all vertices 0,..,n-1 are present\n",
    "    all_index = list(range(0, n))\n",
    "    indexes = sorted(list(set([vertex.index for vertex in route])))\n",
    "    index_present = all_index == indexes\n",
    "    \n",
    "    return start_and_end and index_present\n",
    "\n",
    "def tour_string(vertices):\n",
    "    return \" \".join([str(i.index) for i in vertices])\n",
    "\n",
    "def tour_list(vertices):\n",
    "    return [i.index for i in vertices]\n",
    "\n",
    "# Improved NN approach\n",
    "\n",
    "@jit\n",
    "def nearest_neighbour(vertices, n, max_search=0):\n",
    "    remaining_indexes = set(range(0, n))\n",
    "    starting_vertex = np.random.randint(0, n)\n",
    "    remaining_indexes.remove(starting_vertex)\n",
    "    used_indexes = set(remaining_indexes)\n",
    "    tour = [vertices[starting_vertex]]\n",
    "    \n",
    "    while len(remaining_indexes) > 0:\n",
    "        cur_vertex = tour[-1]\n",
    "        solution_queue = PriorityQueue()\n",
    "        \n",
    "        num_checked = 0\n",
    "        for i in remaining_indexes:\n",
    "            dist = euclidean_distance(cur_vertex, vertices[i])\n",
    "            solution_queue.put(VertexDistance(i, dist))\n",
    "            num_checked += 1\n",
    "            \n",
    "            if (max_search != 0 and num_checked > max_search):\n",
    "                break\n",
    "            \n",
    "        # Select the shortest distance\n",
    "        nearest = solution_queue.get()\n",
    "        \n",
    "        # Update the tour\n",
    "        tour.append(vertices[nearest.index])\n",
    "        remaining_indexes.remove(nearest.index)\n",
    "        \n",
    "    # Add final node to tour\n",
    "    tour.append(tour[0])\n",
    "        \n",
    "    return tour\n",
    "\n",
    "@jit\n",
    "def two_opt_rand(vertices, n):\n",
    "    \n",
    "    route = nearest_neighbour(vertices, n)\n",
    "    cur_distance = objective_function(route)\n",
    "    while True:\n",
    "        print(\"here\")\n",
    "\n",
    "        # Randomely pick an edge\n",
    "        i = np.random.randint(1, n)\n",
    "       \n",
    "        solution_queue = PriorityQueue()\n",
    "        for j in range(i+1, len(route)):\n",
    "            new_route = route[:]\n",
    "            new_route[i:j] = route[j-1:i-1:-1] # this is the 2woptSwap\n",
    "            \n",
    "            assert(is_valid_hamiltonian_cycle(new_route, n))\n",
    "            value = objective_function(new_route)\n",
    "            solution_queue.put(Distance(new_route, value))\n",
    "            \n",
    "        best_move = solution_queue.get()\n",
    "        best_distance = best_move.distance\n",
    "        \n",
    "        if (best_distance < cur_distance):\n",
    "            cur_distance = best_distance\n",
    "            route = best_move.solution\n",
    "        else:\n",
    "            break\n",
    "            \n",
    "    return route\n",
    "\n",
    "@jit\n",
    "def two_opt_full(vertices, n):\n",
    "        \n",
    "    route = nearest_neighbour(vertices, n)\n",
    "    cur_distance = objective_function(route)\n",
    "    while True:\n",
    "        print(cur_distance)\n",
    "\n",
    "        # Randomely pick an edge\n",
    "        solution_queue = PriorityQueue()\n",
    "        for i in range(1, n):\n",
    "            for j in range(i+1, len(route)):\n",
    "                new_route = route[:]\n",
    "                new_route[i:j] = route[j-1:i-1:-1] # this is the 2-opt Swap\n",
    "    \n",
    "                assert(is_valid_hamiltonian_cycle(new_route, n))\n",
    "                value = objective_function(new_route)\n",
    "                solution_queue.put(Distance(new_route, value))\n",
    "\n",
    "        best_move = solution_queue.get()\n",
    "        best_distance = best_move.distance\n",
    "\n",
    "        if (best_distance < cur_distance):\n",
    "            cur_distance = best_distance\n",
    "            route = best_move.solution\n",
    "        else:\n",
    "            break\n",
    "            \n",
    "    return route\n",
    "\n",
    "# 3 opt"
   ]
  },
  {
   "cell_type": "code",
   "execution_count": 45,
   "metadata": {},
   "outputs": [
    {
     "name": "stdout",
     "output_type": "stream",
     "text": [
      "32796.4433288\n",
      "31763.1540048\n",
      "31125.4619579\n",
      "30780.2465914\n",
      "30467.6173828\n",
      "30196.139732\n",
      "29934.496719\n",
      "29736.9203152\n",
      "29552.56439\n",
      "29381.2906174\n",
      "29220.3332202\n",
      "29059.6163054\n",
      "28912.1997378\n",
      "28765.1916891\n",
      "28642.2314949\n",
      "28520.6485187\n",
      "28413.0083737\n",
      "28306.9092676\n",
      "28205.6910851\n",
      "28127.4890458\n",
      "28050.1118566\n",
      "27987.4937934\n",
      "27927.8295064\n",
      "27794.5134596\n",
      "27741.0085249\n",
      "27725.2109599\n",
      "27715.731963\n",
      "27668.6011845\n",
      "27660.1851723\n",
      "27592.3275228\n",
      "27233.6030917\n",
      "27221.6075375\n",
      "27216.5369096\n",
      "27211.4972208\n",
      "27208.0930986\n",
      "27208.0930986\n"
     ]
    }
   ],
   "source": [
    "a = two_opt_full(vertices, n)"
   ]
  },
  {
   "cell_type": "code",
   "execution_count": 41,
   "metadata": {},
   "outputs": [
    {
     "data": {
      "text/plain": [
       "35678.642301746622"
      ]
     },
     "execution_count": 41,
     "metadata": {},
     "output_type": "execute_result"
    }
   ],
   "source": [
    "objective_function(a)"
   ]
  },
  {
   "cell_type": "code",
   "execution_count": 42,
   "metadata": {},
   "outputs": [
    {
     "name": "stdout",
     "output_type": "stream",
     "text": [
      "[60, 11, 8, 122, 27, 52, 118, 137, 90, 59, 70, 51, 125, 44, 111, 103, 92, 123, 17, 67, 88, 110, 131, 148, 84, 16, 23, 65, 93, 29, 140, 83, 2, 6, 100, 135, 56, 106, 41, 98, 66, 120, 49, 61, 127, 75, 9, 101, 89, 87, 3, 34, 138, 132, 28, 53, 26, 97, 76, 109, 142, 104, 39, 1, 4, 71, 139, 54, 31, 114, 86, 40, 78, 134, 64, 143, 42, 147, 77, 133, 115, 13, 46, 95, 63, 55, 0, 45, 35, 144, 15, 47, 18, 19, 124, 57, 10, 117, 79, 43, 130, 25, 50, 38, 32, 37, 62, 136, 7, 146, 48, 145, 112, 113, 102, 12, 72, 22, 33, 69, 108, 14, 99, 91, 30, 82, 36, 96, 149, 58, 128, 73, 80, 121, 105, 141, 116, 129, 94, 81, 85, 126, 74, 20, 68, 21, 5, 119, 107, 24, 60]\n"
     ]
    }
   ],
   "source": [
    "print(tour_list(a))"
   ]
  },
  {
   "cell_type": "code",
   "execution_count": 43,
   "metadata": {},
   "outputs": [
    {
     "data": {
      "image/png": "[encoded data removed]",
      "text/plain": [
       "<matplotlib.figure.Figure at 0x1150e37b8>"
      ]
     },
     "metadata": {},
     "output_type": "display_data"
    }
   ],
   "source": [
    "plotTSP([tour_list(a)[:-1]], points)"
   ]
  },
  {
   "cell_type": "code",
   "execution_count": 102,
   "metadata": {},
   "outputs": [
    {
     "name": "stdout",
     "output_type": "stream",
     "text": [
      "4.0\n"
     ]
    }
   ],
   "source": [
    "print(objective_function(a))"
   ]
  },
  {
   "cell_type": "code",
   "execution_count": 72,
   "metadata": {},
   "outputs": [
    {
     "ename": "ValueError",
     "evalue": "'vertices' must be a 2D list or array with shape Nx2",
     "output_type": "error",
     "traceback": [
      "\u001b[0;31m---------------------------------------------------------------------------\u001b[0m",
      "\u001b[0;31mValueError\u001b[0m                                Traceback (most recent call last)",
      "\u001b[0;32m<ipython-input-72-8b430a05622f>\u001b[0m in \u001b[0;36m<module>\u001b[0;34m()\u001b[0m\n\u001b[0;32m----> 1\u001b[0;31m \u001b[0mplotTSP\u001b[0m\u001b[0;34m(\u001b[0m\u001b[0;34m[\u001b[0m\u001b[0mtour_list\u001b[0m\u001b[0;34m(\u001b[0m\u001b[0ma\u001b[0m\u001b[0;34m)\u001b[0m\u001b[0;34m]\u001b[0m\u001b[0;34m,\u001b[0m \u001b[0mpoints\u001b[0m\u001b[0;34m)\u001b[0m\u001b[0;34m\u001b[0m\u001b[0m\n\u001b[0m",
      "\u001b[0;32m<ipython-input-28-a4b10e5675c2>\u001b[0m in \u001b[0;36mplotTSP\u001b[0;34m(paths, points, num_iters)\u001b[0m\n\u001b[1;32m     43\u001b[0m     \u001b[0;31m# Draw the primary path for the TSP problem\u001b[0m\u001b[0;34m\u001b[0m\u001b[0;34m\u001b[0m\u001b[0m\n\u001b[1;32m     44\u001b[0m     plt.arrow(x[-1], y[-1], (x[0] - x[-1]), (y[0] - y[-1]), head_width = a_scale, \n\u001b[0;32m---> 45\u001b[0;31m             color ='g', length_includes_head=True)\n\u001b[0m\u001b[1;32m     46\u001b[0m     \u001b[0;32mfor\u001b[0m \u001b[0mi\u001b[0m \u001b[0;32min\u001b[0m \u001b[0mrange\u001b[0m\u001b[0;34m(\u001b[0m\u001b[0;36m0\u001b[0m\u001b[0;34m,\u001b[0m\u001b[0mlen\u001b[0m\u001b[0;34m(\u001b[0m\u001b[0mx\u001b[0m\u001b[0;34m)\u001b[0m\u001b[0;34m-\u001b[0m\u001b[0;36m1\u001b[0m\u001b[0;34m)\u001b[0m\u001b[0;34m:\u001b[0m\u001b[0;34m\u001b[0m\u001b[0m\n\u001b[1;32m     47\u001b[0m         plt.arrow(x[i], y[i], (x[i+1] - x[i]), (y[i+1] - y[i]), head_width = a_scale,\n",
      "\u001b[0;32m~/anaconda3/lib/python3.6/site-packages/matplotlib/pyplot.py\u001b[0m in \u001b[0;36marrow\u001b[0;34m(x, y, dx, dy, hold, **kwargs)\u001b[0m\n\u001b[1;32m   2520\u001b[0m                       mplDeprecation)\n\u001b[1;32m   2521\u001b[0m     \u001b[0;32mtry\u001b[0m\u001b[0;34m:\u001b[0m\u001b[0;34m\u001b[0m\u001b[0m\n\u001b[0;32m-> 2522\u001b[0;31m         \u001b[0mret\u001b[0m \u001b[0;34m=\u001b[0m \u001b[0max\u001b[0m\u001b[0;34m.\u001b[0m\u001b[0marrow\u001b[0m\u001b[0;34m(\u001b[0m\u001b[0mx\u001b[0m\u001b[0;34m,\u001b[0m \u001b[0my\u001b[0m\u001b[0;34m,\u001b[0m \u001b[0mdx\u001b[0m\u001b[0;34m,\u001b[0m \u001b[0mdy\u001b[0m\u001b[0;34m,\u001b[0m \u001b[0;34m**\u001b[0m\u001b[0mkwargs\u001b[0m\u001b[0;34m)\u001b[0m\u001b[0;34m\u001b[0m\u001b[0m\n\u001b[0m\u001b[1;32m   2523\u001b[0m     \u001b[0;32mfinally\u001b[0m\u001b[0;34m:\u001b[0m\u001b[0;34m\u001b[0m\u001b[0m\n\u001b[1;32m   2524\u001b[0m         \u001b[0max\u001b[0m\u001b[0;34m.\u001b[0m\u001b[0m_hold\u001b[0m \u001b[0;34m=\u001b[0m \u001b[0mwashold\u001b[0m\u001b[0;34m\u001b[0m\u001b[0m\n",
      "\u001b[0;32m~/anaconda3/lib/python3.6/site-packages/matplotlib/axes/_axes.py\u001b[0m in \u001b[0;36marrow\u001b[0;34m(self, x, y, dx, dy, **kwargs)\u001b[0m\n\u001b[1;32m   4621\u001b[0m         \u001b[0mdy\u001b[0m \u001b[0;34m=\u001b[0m \u001b[0mself\u001b[0m\u001b[0;34m.\u001b[0m\u001b[0mconvert_yunits\u001b[0m\u001b[0;34m(\u001b[0m\u001b[0mdy\u001b[0m\u001b[0;34m)\u001b[0m\u001b[0;34m\u001b[0m\u001b[0m\n\u001b[1;32m   4622\u001b[0m \u001b[0;34m\u001b[0m\u001b[0m\n\u001b[0;32m-> 4623\u001b[0;31m         \u001b[0ma\u001b[0m \u001b[0;34m=\u001b[0m \u001b[0mmpatches\u001b[0m\u001b[0;34m.\u001b[0m\u001b[0mFancyArrow\u001b[0m\u001b[0;34m(\u001b[0m\u001b[0mx\u001b[0m\u001b[0;34m,\u001b[0m \u001b[0my\u001b[0m\u001b[0;34m,\u001b[0m \u001b[0mdx\u001b[0m\u001b[0;34m,\u001b[0m \u001b[0mdy\u001b[0m\u001b[0;34m,\u001b[0m \u001b[0;34m**\u001b[0m\u001b[0mkwargs\u001b[0m\u001b[0;34m)\u001b[0m\u001b[0;34m\u001b[0m\u001b[0m\n\u001b[0m\u001b[1;32m   4624\u001b[0m         \u001b[0mself\u001b[0m\u001b[0;34m.\u001b[0m\u001b[0madd_artist\u001b[0m\u001b[0;34m(\u001b[0m\u001b[0ma\u001b[0m\u001b[0;34m)\u001b[0m\u001b[0;34m\u001b[0m\u001b[0m\n\u001b[1;32m   4625\u001b[0m         \u001b[0;32mreturn\u001b[0m \u001b[0ma\u001b[0m\u001b[0;34m\u001b[0m\u001b[0m\n",
      "\u001b[0;32m~/anaconda3/lib/python3.6/site-packages/matplotlib/patches.py\u001b[0m in \u001b[0;36m__init__\u001b[0;34m(self, x, y, dx, dy, width, length_includes_head, head_width, head_length, shape, overhang, head_starts_at_zero, **kwargs)\u001b[0m\n\u001b[1;32m   1288\u001b[0m             \u001b[0mverts\u001b[0m \u001b[0;34m=\u001b[0m \u001b[0mnp\u001b[0m\u001b[0;34m.\u001b[0m\u001b[0mdot\u001b[0m\u001b[0;34m(\u001b[0m\u001b[0mcoords\u001b[0m\u001b[0;34m,\u001b[0m \u001b[0mM\u001b[0m\u001b[0;34m)\u001b[0m \u001b[0;34m+\u001b[0m \u001b[0;34m(\u001b[0m\u001b[0mx\u001b[0m \u001b[0;34m+\u001b[0m \u001b[0mdx\u001b[0m\u001b[0;34m,\u001b[0m \u001b[0my\u001b[0m \u001b[0;34m+\u001b[0m \u001b[0mdy\u001b[0m\u001b[0;34m)\u001b[0m\u001b[0;34m\u001b[0m\u001b[0m\n\u001b[1;32m   1289\u001b[0m \u001b[0;34m\u001b[0m\u001b[0m\n\u001b[0;32m-> 1290\u001b[0;31m         \u001b[0mPolygon\u001b[0m\u001b[0;34m.\u001b[0m\u001b[0m__init__\u001b[0m\u001b[0;34m(\u001b[0m\u001b[0mself\u001b[0m\u001b[0;34m,\u001b[0m \u001b[0mlist\u001b[0m\u001b[0;34m(\u001b[0m\u001b[0mmap\u001b[0m\u001b[0;34m(\u001b[0m\u001b[0mtuple\u001b[0m\u001b[0;34m,\u001b[0m \u001b[0mverts\u001b[0m\u001b[0;34m)\u001b[0m\u001b[0;34m)\u001b[0m\u001b[0;34m,\u001b[0m \u001b[0mclosed\u001b[0m\u001b[0;34m=\u001b[0m\u001b[0;32mTrue\u001b[0m\u001b[0;34m,\u001b[0m \u001b[0;34m**\u001b[0m\u001b[0mkwargs\u001b[0m\u001b[0;34m)\u001b[0m\u001b[0;34m\u001b[0m\u001b[0m\n\u001b[0m\u001b[1;32m   1291\u001b[0m \u001b[0;34m\u001b[0m\u001b[0m\n\u001b[1;32m   1292\u001b[0m \u001b[0;34m\u001b[0m\u001b[0m\n",
      "\u001b[0;32m~/anaconda3/lib/python3.6/site-packages/matplotlib/patches.py\u001b[0m in \u001b[0;36m__init__\u001b[0;34m(self, xy, closed, **kwargs)\u001b[0m\n\u001b[1;32m    951\u001b[0m         \u001b[0mPatch\u001b[0m\u001b[0;34m.\u001b[0m\u001b[0m__init__\u001b[0m\u001b[0;34m(\u001b[0m\u001b[0mself\u001b[0m\u001b[0;34m,\u001b[0m \u001b[0;34m**\u001b[0m\u001b[0mkwargs\u001b[0m\u001b[0;34m)\u001b[0m\u001b[0;34m\u001b[0m\u001b[0m\n\u001b[1;32m    952\u001b[0m         \u001b[0mself\u001b[0m\u001b[0;34m.\u001b[0m\u001b[0m_closed\u001b[0m \u001b[0;34m=\u001b[0m \u001b[0mclosed\u001b[0m\u001b[0;34m\u001b[0m\u001b[0m\n\u001b[0;32m--> 953\u001b[0;31m         \u001b[0mself\u001b[0m\u001b[0;34m.\u001b[0m\u001b[0mset_xy\u001b[0m\u001b[0;34m(\u001b[0m\u001b[0mxy\u001b[0m\u001b[0;34m)\u001b[0m\u001b[0;34m\u001b[0m\u001b[0m\n\u001b[0m\u001b[1;32m    954\u001b[0m \u001b[0;34m\u001b[0m\u001b[0m\n\u001b[1;32m    955\u001b[0m     \u001b[0;32mdef\u001b[0m \u001b[0mget_path\u001b[0m\u001b[0;34m(\u001b[0m\u001b[0mself\u001b[0m\u001b[0;34m)\u001b[0m\u001b[0;34m:\u001b[0m\u001b[0;34m\u001b[0m\u001b[0m\n",
      "\u001b[0;32m~/anaconda3/lib/python3.6/site-packages/matplotlib/patches.py\u001b[0m in \u001b[0;36mset_xy\u001b[0;34m(self, xy)\u001b[0m\n\u001b[1;32m   1020\u001b[0m             \u001b[0;32mif\u001b[0m \u001b[0mlen\u001b[0m\u001b[0;34m(\u001b[0m\u001b[0mxy\u001b[0m\u001b[0;34m)\u001b[0m \u001b[0;34m>\u001b[0m \u001b[0;36m2\u001b[0m \u001b[0;32mand\u001b[0m \u001b[0;34m(\u001b[0m\u001b[0mxy\u001b[0m\u001b[0;34m[\u001b[0m\u001b[0;36m0\u001b[0m\u001b[0;34m]\u001b[0m \u001b[0;34m==\u001b[0m \u001b[0mxy\u001b[0m\u001b[0;34m[\u001b[0m\u001b[0;34m-\u001b[0m\u001b[0;36m1\u001b[0m\u001b[0;34m]\u001b[0m\u001b[0;34m)\u001b[0m\u001b[0;34m.\u001b[0m\u001b[0mall\u001b[0m\u001b[0;34m(\u001b[0m\u001b[0;34m)\u001b[0m\u001b[0;34m:\u001b[0m\u001b[0;34m\u001b[0m\u001b[0m\n\u001b[1;32m   1021\u001b[0m                 \u001b[0mxy\u001b[0m \u001b[0;34m=\u001b[0m \u001b[0mxy\u001b[0m\u001b[0;34m[\u001b[0m\u001b[0;34m:\u001b[0m\u001b[0;34m-\u001b[0m\u001b[0;36m1\u001b[0m\u001b[0;34m]\u001b[0m\u001b[0;34m\u001b[0m\u001b[0m\n\u001b[0;32m-> 1022\u001b[0;31m         \u001b[0mself\u001b[0m\u001b[0;34m.\u001b[0m\u001b[0m_path\u001b[0m \u001b[0;34m=\u001b[0m \u001b[0mPath\u001b[0m\u001b[0;34m(\u001b[0m\u001b[0mxy\u001b[0m\u001b[0;34m,\u001b[0m \u001b[0mclosed\u001b[0m\u001b[0;34m=\u001b[0m\u001b[0mself\u001b[0m\u001b[0;34m.\u001b[0m\u001b[0m_closed\u001b[0m\u001b[0;34m)\u001b[0m\u001b[0;34m\u001b[0m\u001b[0m\n\u001b[0m\u001b[1;32m   1023\u001b[0m         \u001b[0mself\u001b[0m\u001b[0;34m.\u001b[0m\u001b[0mstale\u001b[0m \u001b[0;34m=\u001b[0m \u001b[0;32mTrue\u001b[0m\u001b[0;34m\u001b[0m\u001b[0m\n\u001b[1;32m   1024\u001b[0m \u001b[0;34m\u001b[0m\u001b[0m\n",
      "\u001b[0;32m~/anaconda3/lib/python3.6/site-packages/matplotlib/path.py\u001b[0m in \u001b[0;36m__init__\u001b[0;34m(self, vertices, codes, _interpolation_steps, closed, readonly)\u001b[0m\n\u001b[1;32m    137\u001b[0m         \u001b[0;32mif\u001b[0m \u001b[0;34m(\u001b[0m\u001b[0mvertices\u001b[0m\u001b[0;34m.\u001b[0m\u001b[0mndim\u001b[0m \u001b[0;34m!=\u001b[0m \u001b[0;36m2\u001b[0m\u001b[0;34m)\u001b[0m \u001b[0;32mor\u001b[0m \u001b[0;34m(\u001b[0m\u001b[0mvertices\u001b[0m\u001b[0;34m.\u001b[0m\u001b[0mshape\u001b[0m\u001b[0;34m[\u001b[0m\u001b[0;36m1\u001b[0m\u001b[0;34m]\u001b[0m \u001b[0;34m!=\u001b[0m \u001b[0;36m2\u001b[0m\u001b[0;34m)\u001b[0m\u001b[0;34m:\u001b[0m\u001b[0;34m\u001b[0m\u001b[0m\n\u001b[1;32m    138\u001b[0m             \u001b[0mmsg\u001b[0m \u001b[0;34m=\u001b[0m \u001b[0;34m\"'vertices' must be a 2D list or array with shape Nx2\"\u001b[0m\u001b[0;34m\u001b[0m\u001b[0m\n\u001b[0;32m--> 139\u001b[0;31m             \u001b[0;32mraise\u001b[0m \u001b[0mValueError\u001b[0m\u001b[0;34m(\u001b[0m\u001b[0mmsg\u001b[0m\u001b[0;34m)\u001b[0m\u001b[0;34m\u001b[0m\u001b[0m\n\u001b[0m\u001b[1;32m    140\u001b[0m \u001b[0;34m\u001b[0m\u001b[0m\n\u001b[1;32m    141\u001b[0m         \u001b[0;32mif\u001b[0m \u001b[0mcodes\u001b[0m \u001b[0;32mis\u001b[0m \u001b[0;32mnot\u001b[0m \u001b[0;32mNone\u001b[0m\u001b[0;34m:\u001b[0m\u001b[0;34m\u001b[0m\u001b[0m\n",
      "\u001b[0;31mValueError\u001b[0m: 'vertices' must be a 2D list or array with shape Nx2"
     ]
    },
    {
     "data": {
      "image/png": "[encoded data removed]",
      "text/plain": [
       "<matplotlib.figure.Figure at 0x10ece97f0>"
      ]
     },
     "metadata": {},
     "output_type": "display_data"
    }
   ],
   "source": [
    "plotTSP([tour_list(a)], points)"
   ]
  },
  {
   "cell_type": "code",
   "execution_count": 71,
   "metadata": {},
   "outputs": [
    {
     "data": {
      "text/plain": [
       "[(0.0, 0.0), (0.0, 0.5), (0.0, 1.0), (1.0, 1.0), (1.0, 0.0)]"
      ]
     },
     "execution_count": 71,
     "metadata": {},
     "output_type": "execute_result"
    }
   ],
   "source": [
    "points"
   ]
  },
  {
   "cell_type": "code",
   "execution_count": 141,
   "metadata": {},
   "outputs": [
    {
     "data": {
      "text/plain": [
       "[1, 2, 3]"
      ]
     },
     "execution_count": 141,
     "metadata": {},
     "output_type": "execute_result"
    }
   ],
   "source": [
    "a[0:3]"
   ]
  },
  {
   "cell_type": "code",
   "execution_count": 157,
   "metadata": {},
   "outputs": [
    {
     "data": {
      "text/plain": [
       "2"
      ]
     },
     "execution_count": 157,
     "metadata": {},
     "output_type": "execute_result"
    }
   ],
   "source": [
    "max(0,2)"
   ]
  },
  {
   "cell_type": "code",
   "execution_count": 178,
   "metadata": {},
   "outputs": [
    {
     "data": {
      "text/plain": [
       "[]"
      ]
     },
     "execution_count": 178,
     "metadata": {},
     "output_type": "execute_result"
    }
   ],
   "source": [
    "a[0:0]"
   ]
  },
  {
   "cell_type": "code",
   "execution_count": 61,
   "metadata": {},
   "outputs": [
    {
     "ename": "ValueError",
     "evalue": "Expected n_neighbors <= n_samples,  but n_samples = 150, n_neighbors = 300",
     "output_type": "error",
     "traceback": [
      "\u001b[0;31m---------------------------------------------------------------------------\u001b[0m",
      "\u001b[0;31mValueError\u001b[0m                                Traceback (most recent call last)",
      "\u001b[0;32m<ipython-input-61-7d67f8cccba1>\u001b[0m in \u001b[0;36m<module>\u001b[0;34m()\u001b[0m\n\u001b[1;32m      1\u001b[0m \u001b[0mnbrs\u001b[0m \u001b[0;34m=\u001b[0m \u001b[0mNearestNeighbors\u001b[0m\u001b[0;34m(\u001b[0m\u001b[0mn_neighbors\u001b[0m\u001b[0;34m=\u001b[0m\u001b[0;36m300\u001b[0m\u001b[0;34m,\u001b[0m \u001b[0malgorithm\u001b[0m\u001b[0;34m=\u001b[0m\u001b[0;34m'auto'\u001b[0m\u001b[0;34m)\u001b[0m\u001b[0;34m.\u001b[0m\u001b[0mfit\u001b[0m\u001b[0;34m(\u001b[0m\u001b[0mpoints\u001b[0m\u001b[0;34m)\u001b[0m\u001b[0;34m\u001b[0m\u001b[0m\n\u001b[0;32m----> 2\u001b[0;31m \u001b[0mdistances\u001b[0m\u001b[0;34m,\u001b[0m \u001b[0mindices\u001b[0m \u001b[0;34m=\u001b[0m \u001b[0mnbrs\u001b[0m\u001b[0;34m.\u001b[0m\u001b[0mkneighbors\u001b[0m\u001b[0;34m(\u001b[0m\u001b[0mpoints\u001b[0m\u001b[0;34m)\u001b[0m\u001b[0;34m\u001b[0m\u001b[0m\n\u001b[0m",
      "\u001b[0;32m~/anaconda3/lib/python3.6/site-packages/sklearn/neighbors/base.py\u001b[0m in \u001b[0;36mkneighbors\u001b[0;34m(self, X, n_neighbors, return_distance)\u001b[0m\n\u001b[1;32m    345\u001b[0m                 \u001b[0;34m\"Expected n_neighbors <= n_samples, \"\u001b[0m\u001b[0;34m\u001b[0m\u001b[0m\n\u001b[1;32m    346\u001b[0m                 \u001b[0;34m\" but n_samples = %d, n_neighbors = %d\"\u001b[0m \u001b[0;34m%\u001b[0m\u001b[0;34m\u001b[0m\u001b[0m\n\u001b[0;32m--> 347\u001b[0;31m                 \u001b[0;34m(\u001b[0m\u001b[0mtrain_size\u001b[0m\u001b[0;34m,\u001b[0m \u001b[0mn_neighbors\u001b[0m\u001b[0;34m)\u001b[0m\u001b[0;34m\u001b[0m\u001b[0m\n\u001b[0m\u001b[1;32m    348\u001b[0m             )\n\u001b[1;32m    349\u001b[0m         \u001b[0mn_samples\u001b[0m\u001b[0;34m,\u001b[0m \u001b[0m_\u001b[0m \u001b[0;34m=\u001b[0m \u001b[0mX\u001b[0m\u001b[0;34m.\u001b[0m\u001b[0mshape\u001b[0m\u001b[0;34m\u001b[0m\u001b[0m\n",
      "\u001b[0;31mValueError\u001b[0m: Expected n_neighbors <= n_samples,  but n_samples = 150, n_neighbors = 300"
     ]
    }
   ],
   "source": [
    "nbrs = NearestNeighbors(n_neighbors=300, algorithm='auto').fit(points)\n",
    "distances, indices = nbrs.kneighbors(points)"
   ]
  },
  {
   "cell_type": "code",
   "execution_count": 58,
   "metadata": {},
   "outputs": [
    {
     "data": {
      "text/plain": [
       "array([[  0,  45,  35, ...,   2,   6,  81],\n",
       "       [  1,  39,   4, ...,   6,  81,  11],\n",
       "       [  2,  83,   6, ..., 130,  79, 117],\n",
       "       ..., \n",
       "       [147,  77,  42, ...,  81, 108, 132],\n",
       "       [148, 131, 110, ...,  12, 108, 132],\n",
       "       [149,  58,  96, ..., 126,  74,  11]])"
      ]
     },
     "execution_count": 58,
     "metadata": {},
     "output_type": "execute_result"
    }
   ],
   "source": [
    "indices"
   ]
  },
  {
   "cell_type": "code",
   "execution_count": 59,
   "metadata": {},
   "outputs": [
    {
     "data": {
      "text/plain": [
       "array([[    0.        ,    67.35725648,    81.58431222, ...,\n",
       "         3291.274829  ,  3398.97999406,  3538.6144181 ],\n",
       "       [    0.        ,   102.45974819,   193.8478785 , ...,\n",
       "         2248.70118068,  2348.75839541,  2358.59810057],\n",
       "       [    0.        ,    82.66196223,   116.21101497, ...,\n",
       "         3753.1877118 ,  3768.38426915,  3922.81799221],\n",
       "       ..., \n",
       "       [    0.        ,    17.72004515,   103.74005976, ...,\n",
       "         2549.38914252,  2563.98322927,  2632.937523  ],\n",
       "       [    0.        ,    62.16912417,   102.90286682, ...,\n",
       "         2927.20156463,  2958.57279782,  3099.61691181],\n",
       "       [    0.        ,    98.85848471,   166.58031096, ...,\n",
       "         3087.16471864,  3121.55233818,  3247.21804011]])"
      ]
     },
     "execution_count": 59,
     "metadata": {},
     "output_type": "execute_result"
    }
   ],
   "source": [
    "distances"
   ]
  },
  {
   "cell_type": "code",
   "execution_count": 60,
   "metadata": {},
   "outputs": [
    {
     "data": {
      "text/plain": [
       "150"
      ]
     },
     "execution_count": 60,
     "metadata": {},
     "output_type": "execute_result"
    }
   ],
   "source": [
    "n"
   ]
  },
  {
   "cell_type": "code",
   "execution_count": null,
   "metadata": {
    "collapsed": true
   },
   "outputs": [],
   "source": []
  }
 ],
 "metadata": {
  "kernelspec": {
   "display_name": "Python 3",
   "language": "python",
   "name": "python3"
  },
  "language_info": {
   "codemirror_mode": {
    "name": "ipython",
    "version": 3
   },
   "file_extension": ".py",
   "mimetype": "text/x-python",
   "name": "python",
   "nbconvert_exporter": "python",
   "pygments_lexer": "ipython3",
   "version": "3.6.3"
  }
 },
 "nbformat": 4,
 "nbformat_minor": 2
}
